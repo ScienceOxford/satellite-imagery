{
  "cells": [
    {
      "cell_type": "markdown",
      "metadata": {
        "jp-MarkdownHeadingCollapsed": true
      },
      "source": [
        "<h3>Satellites</h3>\n",
        "Context will be added here...<br>\n",
        "https://eos.com/make-an-analysis/ndvi/"
      ]
    },
    {
      "cell_type": "markdown",
      "metadata": {
        "jp-MarkdownHeadingCollapsed": true
      },
      "source": [
        "<h3>Before Starting</h3>\n",
        "If you get any unusual error messages, come back here!"
      ]
    },
    {
      "cell_type": "markdown",
      "metadata": {},
      "source": [
        "1. Click **>> Restart the kernel** from the toolbar at the top before starting.<br>\n",
        "<em>Errors can show up if you do not do this, as functions.py needs to load correctly in the background.</em>\n",
        "<br><br>\n",
        "2. Run the cell below (*# import libraries*) by clicking inside it and hitting (Shift + Enter), or clicking *> Run* from the toolbar at the top.<br>\n",
        "<em>If you ever restart the kernel again, come back here and run the 'import libraries' cell again.<br>\n",
        "Wait for [*] on the left to change to [1] before carrying on.</em>"
      ]
    },
    {
      "cell_type": "code",
      "execution_count": null,
      "metadata": {
        "trusted": true
      },
      "outputs": [],
      "source": [
        "# import libraries\n",
        "import matplotlib.pyplot as plt\n",
        "import functions as s"
      ]
    },
    {
      "cell_type": "markdown",
      "metadata": {
        "jp-MarkdownHeadingCollapsed": true
      },
      "source": [
        "<h3>Viewing satellite images</h3>"
      ]
    },
    {
      "cell_type": "markdown",
      "metadata": {},
      "source": [
        "1. Run the cell below to process the first image <strong>\"London.jpg\"</strong><br>\n",
        "<em>If the code worked, you should see some information underneath labelled 'original' and 'array' - this is to help us to error check your own pictures later.</em><br>\n",
        "<em>If you <strong>have not changed the code</strong> but get an error message here, go to the <strong>Before Starting</strong> section above, or ask as workshop leader for help."
      ]
    },
    {
      "cell_type": "code",
      "execution_count": null,
      "metadata": {
        "trusted": true
      },
      "outputs": [],
      "source": [
        "starter_Image = s.convert( \"London.jpg\" )"
      ]
    },
    {
      "cell_type": "markdown",
      "metadata": {},
      "source": [
        "2. Run the cell below to see the image.<br>\n",
        "<em>The first line of code shows the image, the second link removes axes that make it look like a graph. To see what it looks like with the axes, you can add a # symbol to the beginning of the second line, then run the cell again.</em>"
      ]
    },
    {
      "cell_type": "code",
      "execution_count": null,
      "metadata": {
        "trusted": true
      },
      "outputs": [],
      "source": [
        "plt.imshow(starter_Image)\n",
        "s.tidy_plot()"
      ]
    },
    {
      "cell_type": "markdown",
      "metadata": {},
      "source": [
        "<strong>What is the London image showing?</strong>\n",
        "* What does black mean?\n",
        "* What does yellow or light green mean?\n",
        "* What does dark green or blue mean?"
      ]
    },
    {
      "cell_type": "markdown",
      "metadata": {},
      "source": [
        "<strong>Test out the other images we have added for you by editing the code below.</strong><br>\n",
        "You can choose from:\n",
        "* \"Oxford.jpg\"\n",
        "* \"Pyrenees.jpg\"\n",
        "* \"Nile.jpg\""
      ]
    },
    {
      "cell_type": "markdown",
      "metadata": {},
      "source": [
        "Edit the first line of code with the name of the image you would like to test, then run the cell."
      ]
    },
    {
      "cell_type": "code",
      "execution_count": null,
      "metadata": {
        "trusted": true
      },
      "outputs": [],
      "source": [
        "practice_Image = s.convert( \"Oxford.jpg\" )\n",
        "plt.imshow(practice_Image)\n",
        "s.tidy_plot()"
      ]
    },
    {
      "cell_type": "markdown",
      "metadata": {},
      "source": [
        "What do you think about these images? Do the colours show up the way you would expect?<br>\n",
        "<strong>When you have tested the images, choose your favourite one and run the code for that before moving on.</strong>"
      ]
    },
    {
      "cell_type": "markdown",
      "metadata": {
        "jp-MarkdownHeadingCollapsed": true
      },
      "source": [
        "<h3>Editing colours</h3>"
      ]
    },
    {
      "cell_type": "markdown",
      "metadata": {},
      "source": [
        "At the moment, the images are always shades of green, but you can change this by choosing a <strong>colour map</strong>.\n",
        "<br>\n",
        "Run the code below to see your image with the colour map <strong>\"inferno\"</strong>."
      ]
    },
    {
      "cell_type": "code",
      "execution_count": null,
      "metadata": {
        "trusted": true
      },
      "outputs": [],
      "source": [
        "plt.imshow(practice_Image, cmap=\"inferno\")\n",
        "s.tidy_plot()"
      ]
    },
    {
      "cell_type": "markdown",
      "metadata": {},
      "source": [
        "<em>cmap</em> is short for colour map, and you can change <em>\"inferno\"</em> to a different option to change the appearance of your image.<br>\n",
        "Some of the options you can choose from are:\n",
        "* \"magma\"\n",
        "* \"plasma\"\n",
        "* \"viridis\"\n",
        "* \"cividis\"\n",
        "* \"twilight\"\n",
        "* \"turbo\"\n",
        "* \"Spectral\"\n",
        "* \"cool\"\n",
        "* \"cubehelix\"\n",
        "* \"flag\"\n",
        "* \"gray\"\n",
        "* \"hot\"\n",
        "* \"jet\"\n",
        "* \"rainbow\"\n",
        "* \"seismic\"\n",
        "* \"terrain'\n",
        "\n",
        "You can get the full list here: https://matplotlib.org/stable/gallery/color/colormap_reference.html"
      ]
    },
    {
      "cell_type": "markdown",
      "metadata": {
        "jp-MarkdownHeadingCollapsed": true
      },
      "source": [
        "<h3>Finding your own satellite images</h3>"
      ]
    },
    {
      "cell_type": "markdown",
      "metadata": {},
      "source": [
        "**Take a break from coding to choose some infrared images of your own to analyse.<br>\n",
        "INSTRUCTIONS FOR USING SENTINEL HUB HERE<br>\n",
        "Also instructions on how to add your image into the notebook**"
      ]
    },
    {
      "cell_type": "markdown",
      "metadata": {},
      "source": [
        "Edit the code below to include a link to the image you saved above, then try some different colour maps again.<br>"
      ]
    },
    {
      "cell_type": "code",
      "execution_count": null,
      "metadata": {
        "trusted": true
      },
      "outputs": [],
      "source": [
        "my_Image = s.convert( \"London.jpg\" )\n",
        "plt.imshow(my_Image, cmap='twilight')\n",
        "s.tidy_plot()"
      ]
    },
    {
      "cell_type": "markdown",
      "metadata": {
        "jp-MarkdownHeadingCollapsed": true
      },
      "source": [
        "<h3>Optional: adding information to your image</h3>"
      ]
    },
    {
      "cell_type": "markdown",
      "metadata": {},
      "source": [
        "It is not always easy to know what each colour means so, if you want people to understand your image, you can add:\n",
        "* a title for your image\n",
        "* a key (called a colour bar)\n",
        "* a label for the key, to explain what the colours mean"
      ]
    },
    {
      "cell_type": "markdown",
      "metadata": {},
      "source": [
        "Run the code below to see this in action, then have a go at editing it to describe your image."
      ]
    },
    {
      "cell_type": "code",
      "execution_count": null,
      "metadata": {
        "trusted": true
      },
      "outputs": [],
      "source": [
        "plt.imshow(my_Image, cmap='rainbow')\n",
        "s.tidy_plot()\n",
        "plt.colorbar(orientation='horizontal', label=\"purple is water; blue and green are vegetation; orange and red are buildings\")\n",
        "plt.title('NDVI map of London, using a \"rainbow\" colour map')"
      ]
    },
    {
      "cell_type": "markdown",
      "metadata": {
        "jp-MarkdownHeadingCollapsed": true
      },
      "source": [
        "<h3>Saving your images</h3>"
      ]
    },
    {
      "cell_type": "markdown",
      "metadata": {
        "trusted": true
      },
      "source": [
        "Saving images from this Notebook means copying and pasting them into another program.<br>\n",
        "If you are currently at Science Oxford, the easiest option is:<br>\n",
        "<strong>Open an email and copy them directly into that.</strong><br><br>\n",
        "If you are working on your own computer, an alternative option is:<br>\n",
        "Save images individually by using e.g. MS Paint to save onto the computer you are using.\n"
      ]
    },
    {
      "cell_type": "markdown",
      "metadata": {},
      "source": [
        "To save an image, right-click on it and then select the top most option - <em>Copy Output to Clipboard</em>.<br>\n",
        "\n",
        "![image](save-image.PNG)"
      ]
    }
  ],
  "metadata": {
    "kernelspec": {
      "display_name": "Python (Pyodide)",
      "language": "python",
      "name": "python"
    },
    "language_info": {
      "codemirror_mode": {
        "name": "python",
        "version": 3
      },
      "file_extension": ".py",
      "mimetype": "text/x-python",
      "name": "python",
      "nbconvert_exporter": "python",
      "pygments_lexer": "ipython3",
      "version": "3.8"
    }
  },
  "nbformat": 4,
  "nbformat_minor": 4
}
